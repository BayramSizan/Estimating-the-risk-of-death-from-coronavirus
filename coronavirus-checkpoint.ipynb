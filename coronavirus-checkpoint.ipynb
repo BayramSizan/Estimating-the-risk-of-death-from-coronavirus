{
 "cells": [
  {
   "cell_type": "code",
   "execution_count": null,
   "id": "c27ef8d7",
   "metadata": {},
   "outputs": [],
   "source": [
    "Problem :\n",
    "\n",
    "Task : Estimating the risk of death from coronavirus. Write a program that;\n",
    "\n",
    "Takes \"Yes\" or \"No\" from the user as an answer to the following questions :\n",
    "\n",
    "Are you a cigarette addict older than 75 years old? Variable → age\n",
    "\n",
    "Do you have a severe chronic disease? Variable → chronic\n",
    "\n",
    "Is your immune system too weak? Variable → immune\n",
    "\n",
    "Set a logical algorithm using boolean logic operators (and/or) and use if-statements\n",
    "with the given variables in order to print out us a message : \n",
    "    \"You are in risky group\"(if True ) or \"You are not in risky group\" (if False).\n",
    "age =  # can be assigned only True/False\n",
    "chronic =  # can be assigned only True/False\n",
    "immune =  # can be assigned only True/False\n",
    "risk = ? (True or False)"
   ]
  },
  {
   "cell_type": "code",
   "execution_count": 1,
   "id": "ed87f72f",
   "metadata": {},
   "outputs": [
    {
     "name": "stdout",
     "output_type": "stream",
     "text": [
      "Are you a cigarette addict older than 75 years old? Write Yes or No :yes\n",
      "Do you have a severe chronic disease? Write Yes or No :no\n",
      "Is your immune system too weak? Write Yes or No :no\n",
      "You are in risky group\n"
     ]
    }
   ],
   "source": [
    "age = input('Are you a cigarette addict older than 75 years old? Write Yes or No :')\n",
    "chronic = input('Do you have a severe chronic disease? Write Yes or No :')\n",
    "immune = input('Is your immune system too weak? Write Yes or No :')\n",
    "\n",
    "if age.title() == \"Yes\" or chronic.title() == \"Yes\" or immune.title() == \"Yes\":\n",
    "    print(\"You are in risky group\")\n",
    "else :\n",
    "    print(\"You are not in risky group\")"
   ]
  },
  {
   "cell_type": "code",
   "execution_count": null,
   "id": "72f0421e",
   "metadata": {},
   "outputs": [],
   "source": []
  }
 ],
 "metadata": {
  "kernelspec": {
   "display_name": "Python 3 (ipykernel)",
   "language": "python",
   "name": "python3"
  },
  "language_info": {
   "codemirror_mode": {
    "name": "ipython",
    "version": 3
   },
   "file_extension": ".py",
   "mimetype": "text/x-python",
   "name": "python",
   "nbconvert_exporter": "python",
   "pygments_lexer": "ipython3",
   "version": "3.9.7"
  }
 },
 "nbformat": 4,
 "nbformat_minor": 5
}
